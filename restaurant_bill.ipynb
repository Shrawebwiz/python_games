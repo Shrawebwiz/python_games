{
 "cells": [
  {
   "cell_type": "code",
   "execution_count": 2,
   "id": "6be02cbb-0571-4207-84c5-1fbec04375c9",
   "metadata": {},
   "outputs": [],
   "source": [
    "import matplotlib.pyplot as plt"
   ]
  },
  {
   "cell_type": "code",
   "execution_count": 4,
   "id": "0bf6ec22-c0c8-420e-98cc-3df80e5ad047",
   "metadata": {},
   "outputs": [],
   "source": [
    "menu = {\n",
    "    \"Coffee\": 50,\n",
    "    \"Tea\": 30,\n",
    "    \"Sandwich\": 100,\n",
    "    \"Cake\": 150,\n",
    "    \"Juice\": 80,\n",
    "    \"Burger\": 120,\n",
    "    \"Pasta\": 200,\n",
    "    \"Pizza\": 250,\n",
    "    \"Cookies\": 40,\n",
    "    \"Smoothie\": 180\n",
    "}"
   ]
  },
  {
   "cell_type": "code",
   "execution_count": 6,
   "id": "49ddb724-ce70-4b05-98d1-e1ebea1500a2",
   "metadata": {},
   "outputs": [],
   "source": [
    "def display_menu():\n",
    "    print(\"Welcome to the Café! Here's our menu:\")\n",
    "    for item, price in menu.items():\n",
    "        print(f\"{item}: ₹{price}\")"
   ]
  },
  {
   "cell_type": "code",
   "execution_count": 8,
   "id": "647ceff1-508c-4a43-9c45-67b46037e55d",
   "metadata": {},
   "outputs": [],
   "source": [
    "def take_order():\n",
    "    order = {}\n",
    "    while True:\n",
    "        item = input(\"\\nEnter the item you want to order (or type 'done' to finish): \").capitalize()\n",
    "        if item == 'Done':\n",
    "            break\n",
    "        elif item in menu:\n",
    "            try:\n",
    "                quantity = int(input(f\"How many {item}(s) would you like? \"))\n",
    "                if quantity > 0:\n",
    "                    order[item] = order.get(item, 0) + quantity\n",
    "                else:\n",
    "                    print(\"Please enter a positive quantity.\")\n",
    "            except ValueError:\n",
    "                print(\"Please enter a valid number.\")\n",
    "        else:\n",
    "            print(\"Sorry, that item is not on the menu.\")\n",
    "    return order"
   ]
  },
  {
   "cell_type": "code",
   "execution_count": 10,
   "id": "1997c97f-c82f-4121-9134-8f83c6ec2ecb",
   "metadata": {},
   "outputs": [],
   "source": [
    "def generate_bill(order):\n",
    "    total_amount = 0\n",
    "    print(\"\\nYour Bill:\")\n",
    "    print(\"-\" * 20)\n",
    "    for item, quantity in order.items():\n",
    "        price = menu[item] * quantity\n",
    "        total_amount += price\n",
    "        print(f\"{item} x {quantity} = ₹{price}\")\n",
    "    print(\"-\" * 20)\n",
    "    print(f\"Total Amount to Pay: ₹{total_amount}\")\n",
    "    return total_amount, order"
   ]
  },
  {
   "cell_type": "code",
   "execution_count": null,
   "id": "188a5aa9-6b27-4aa8-95d7-bbba2a0238ff",
   "metadata": {},
   "outputs": [],
   "source": [
    "\n",
    "def visualize_bill(order):\n",
    "    items = list(order.keys())\n",
    "    quantities = list(order.values())\n",
    "    prices = [menu[item] * quantities[i] for i, item in enumerate(items)]\n",
    "\n",
    "    # Assigning unique colors for each bar\n",
    "    colors = plt.cm.tab20(range(len(items)))  # Using the 'tab20' colormap for diverse colors\n",
    "\n",
    "    plt.figure(figsize=(10, 6))\n",
    "    plt.bar(items, prices, color=colors)\n",
    "    plt.xlabel('Items Ordered')\n",
    "    plt.ylabel('Total Price (₹)')\n",
    "    plt.title('Café Bill Visualization')\n",
    "    plt.xticks(rotation=45)\n",
    "    plt.show()\n",
    "\n",
    "def main():\n",
    "    display_menu()\n",
    "    order = take_order()\n",
    "    if order:\n",
    "        total_amount, order_summary = generate_bill(order)\n",
    "        visualize_bill(order_summary)\n",
    "    else:\n",
    "        print(\"No items were ordered.\")\n",
    "\n",
    "if __name__ == \"__main__\":\n",
    "    main()\n"
   ]
  }
 ],
 "metadata": {
  "kernelspec": {
   "display_name": "Python 3 (ipykernel)",
   "language": "python",
   "name": "python3"
  },
  "language_info": {
   "codemirror_mode": {
    "name": "ipython",
    "version": 3
   },
   "file_extension": ".py",
   "mimetype": "text/x-python",
   "name": "python",
   "nbconvert_exporter": "python",
   "pygments_lexer": "ipython3",
   "version": "3.11.5"
  },
  "widgets": {
   "application/vnd.jupyter.widget-state+json": {
    "state": {},
    "version_major": 2,
    "version_minor": 0
   }
  }
 },
 "nbformat": 4,
 "nbformat_minor": 5
}
